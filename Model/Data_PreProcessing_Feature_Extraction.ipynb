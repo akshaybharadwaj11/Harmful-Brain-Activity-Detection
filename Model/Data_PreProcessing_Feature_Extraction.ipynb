{
 "cells": [
  {
   "cell_type": "markdown",
   "id": "191d60dc-f766-4a74-8ad6-8bb9256e917a",
   "metadata": {},
   "source": [
    "# Harmful Brain Activity Detection"
   ]
  },
  {
   "cell_type": "code",
   "execution_count": 1,
   "id": "e9578ef3-d4d7-4120-ba79-c8e2cfb3ba82",
   "metadata": {},
   "outputs": [],
   "source": [
    "import dask\n",
    "import os\n",
    "import pandas as pd\n",
    "import scipy\n",
    "from scipy.signal import butter, lfilter\n",
    "from scipy import signal\n",
    "from matplotlib import pyplot as plt \n",
    "import multiprocessing as mp\n",
    "import numpy as np\n",
    "import time\n",
    "from dask.distributed import Client\n",
    "import dask.bag as db\n",
    "from sklearn.model_selection import train_test_split\n",
    "import shutil\n",
    "import time\n",
    "import warnings\n",
    "from scipy.signal import stft"
   ]
  },
  {
   "cell_type": "code",
   "execution_count": 2,
   "id": "4ea8e806",
   "metadata": {},
   "outputs": [],
   "source": [
    "num_cpus = 24"
   ]
  },
  {
   "cell_type": "code",
   "execution_count": 3,
   "id": "83831dfa-2daf-4e48-9947-0fce0655b442",
   "metadata": {},
   "outputs": [],
   "source": [
    "train_eeg_path = \"/scratch/kunigalharish.a/hms-brain-activity-classification/dataset/train_eegs/\"\n",
    "train_csv_path = \"/scratch/kunigalharish.a/hms-brain-activity-classification/dataset/train.csv\""
   ]
  },
  {
   "cell_type": "code",
   "execution_count": 4,
   "id": "0f137938-de15-4fdf-abea-4eb19cc5d70a",
   "metadata": {},
   "outputs": [],
   "source": [
    "df_train = pd.read_csv(train_csv_path)"
   ]
  },
  {
   "cell_type": "code",
   "execution_count": 5,
   "id": "138959a2-bbc7-4f26-bef4-123d2299f3f6",
   "metadata": {},
   "outputs": [],
   "source": [
    "# create class folders inside dataset folder\n",
    "\n",
    "for c in df_train['expert_consensus'].unique():\n",
    "    if not os.path.isdir(\"dataset_24/\"+str(c)):\n",
    "        os.makedirs(\"dataset_24/\"+str(c))\n",
    "        "
   ]
  },
  {
   "cell_type": "code",
   "execution_count": 6,
   "id": "9add5440-dcdb-4b3a-9efe-902bc71d65a3",
   "metadata": {},
   "outputs": [],
   "source": [
    "# Function to read eeg and spectrogram data\n",
    "def read_file(folder):\n",
    "    files = [os.path.join(folder, file) for file in os.listdir(folder)]\n",
    "    return files"
   ]
  },
  {
   "cell_type": "markdown",
   "id": "6a896ef1-e9e2-44eb-8a80-aa90f0df3972",
   "metadata": {},
   "source": [
    "## Data Pre-Processing\n",
    "\n",
    "### Noise Removal - Band Pass Filter\n"
   ]
  },
  {
   "cell_type": "code",
   "execution_count": 7,
   "id": "a7a258d0-ef82-4c53-b00f-dd9db0a469e1",
   "metadata": {},
   "outputs": [],
   "source": [
    "\n",
    "# Get offsets for a particular eeg subsample from the consolidated eeg\n",
    "def get_offset(eeg_id):\n",
    "    \"\"\"\n",
    "    Func : Get offsets of a particular consildated eeg to retrieve\n",
    "    every 50 second subsample from the  consolidated eeg data\n",
    "    \n",
    "    params: EEG data id\n",
    "    \n",
    "    return: list of offsets for a consolidated eeg dataframe, list of classes\n",
    "    \n",
    "    \"\"\"\n",
    "    global df_train\n",
    "    \n",
    "    _offsets = df_train[(df_train['eeg_id']==eeg_id)]['eeg_label_offset_seconds'].tolist()\n",
    "    \n",
    "    _class = df_train[(df_train['eeg_id']==eeg_id)]['expert_consensus'].tolist()\n",
    "    \n",
    "    return _offsets, _class\n",
    "\n",
    "# Get subsample based on offset from eeg data\n",
    "def Extract_Subsample(eeg_df, offset):\n",
    "    \"\"\"\n",
    "    Extract subsample from the eeg data based on offset\n",
    "    and return the 50 second long subsample dataframe\n",
    "    \"\"\"\n",
    "    return eeg_df.iloc[offset:offset+50,:-1]\n",
    "    "
   ]
  },
  {
   "cell_type": "code",
   "execution_count": 8,
   "id": "511e2f1b-1d6e-42c0-9bf2-20843e0ab22c",
   "metadata": {},
   "outputs": [],
   "source": [
    "# Function to get Bandpass filter coefficients\n",
    "def get_filter_Coeff(lowcut, highcut, freq, order):\n",
    "    nyq_freq = 0.5 * freq # Nyquist Frequency\n",
    "    low = lowcut / nyq_freq\n",
    "    high = highcut / nyq_freq\n",
    "    b, a = butter(order, [low, high], btype='band')\n",
    "    return b,a\n",
    "\n",
    "\n",
    "# Function to apply the filter \n",
    "def Bandpass_filter(data, lowcut, highcut, freq, order=5):\n",
    "    b,a = get_filter_Coeff(lowcut, highcut, freq, order)\n",
    "    fil_sig = lfilter(b, a, data)\n",
    "    return fil_sig\n",
    "\n",
    "\n",
    "def noise_removal(df_eeg):\n",
    "    \n",
    "    # constants for filter function\n",
    "    lowcut = 0.5\n",
    "    highcut = 20\n",
    "    freq = 200\n",
    "\n",
    "    # filter the eeg sample\n",
    "    filtered_df = df_eeg.apply(lambda x: Bandpass_filter(x, lowcut, highcut, freq, order=5))\n",
    "    \n",
    "    return filtered_df"
   ]
  },
  {
   "cell_type": "markdown",
   "id": "0ec70a7e-de04-4942-a61a-db7ef2e9c0d5",
   "metadata": {},
   "source": [
    "## Feature Extraction\n",
    "\n",
    "### EEG to Spectrogram"
   ]
  },
  {
   "cell_type": "code",
   "execution_count": 9,
   "id": "ff1f51cc-6ed7-4ef2-be61-13582ef9c38d",
   "metadata": {},
   "outputs": [],
   "source": [
    "# Feature Extraction\n",
    "\n",
    "def z_score_normalization(data):\n",
    "    mean_val = np.mean(data)\n",
    "    std_dev = np.std(data)\n",
    "    normalized_data = (data - mean_val) / std_dev\n",
    "    return normalized_data\n",
    "\n",
    "\n",
    "# Convert EEG to Spectrogram\n",
    "\n",
    "def EEG_to_Spectrogram(df, path):\n",
    "    \n",
    "    # Normalize the values of the spectrogram array to help in generalization\n",
    "#     spec_df = normalize_array(spec_df)\n",
    "    norm_df = z_score_normalization(df)\n",
    "    \n",
    "    # generate spectrogram from eeg\n",
    "    freqs, t, spec_df = stft(norm_df, 200, nperseg=50*200)\n",
    "#     freqs, t, spec_df = signal.spectrogram(norm_df, fs=200)\n",
    "    \n",
    "    # Use the absolute value to get the magnitude spectrogram\n",
    "    spectrogram = np.abs(spec_df)\n",
    "    \n",
    "#     spectrogram = np.squeeze(spectrogram, axis=-1).T  \n",
    "\n",
    "    # Plot the spectrogram using Matplotlib\n",
    "    plt.imshow(spectrogram, aspect='auto', origin='lower')\n",
    "    # plt.colorbar(label='Power Spectral Density [dB]')\n",
    "    plt.axis('off')\n",
    "    # Save the spectrogram as an image\n",
    "    plt.savefig(f\"{path}.png\")"
   ]
  },
  {
   "cell_type": "code",
   "execution_count": 10,
   "id": "c3f24107-3476-4846-baad-ea45509a5431",
   "metadata": {},
   "outputs": [],
   "source": [
    "\n",
    "def Feature_Extraction(filtered_df, group, off_class):\n",
    "    print(\"Feature Extraction..........................\")\n",
    "    offset, c = off_class\n",
    "    \n",
    "    # extract subsamples from consolidated eeg\n",
    "    df_sub = Extract_Subsample(filtered_df, int(offset))\n",
    "\n",
    "    # Convert eeg to spectrogram\n",
    "    path = \"dataset_24/\"+str(c)+\"/\"+str(group)+\"_\"+str(offset)\n",
    "\n",
    "    EEG_to_Spectrogram(filtered_df, path)\n",
    "    \n",
    "# Function to generate spectrograms for each EEG file\n",
    "def generate_spectrograms_parallel(df_eeg, group, offsets_classes):\n",
    "    print(\"generate spectrograms\")\n",
    "    \n",
    "    # multiprocessing\n",
    "    global num_cpus\n",
    "\n",
    "    print(f\"No of CPUs : {num_cpus}\")\n",
    "    pool = mp.Pool(processes=num_cpus)\n",
    "    \n",
    "    results = pool.starmap(Feature_Extraction, [(df_eeg, group, off_class) for off_class in offsets_classes])\n",
    "    \n",
    "    pool.close()\n",
    "    pool.join()\n",
    "    \n",
    "    return True\n",
    "    "
   ]
  },
  {
   "cell_type": "code",
   "execution_count": 11,
   "id": "a3d4fee6-504c-4ef7-9163-2df73dfca0db",
   "metadata": {},
   "outputs": [],
   "source": [
    "# Main\n",
    "# EEG data frame\n",
    "eeg_files = read_file(train_eeg_path)\n",
    "\n",
    "# Read Spectrogram data\n",
    "# spec_files = read_file(path_spec)\n",
    "\n",
    "eeg_files_copy = eeg_files.copy()\n"
   ]
  },
  {
   "cell_type": "code",
   "execution_count": null,
   "id": "d8d01efe-a340-4561-bfd9-2ed22b42d20f",
   "metadata": {
    "scrolled": true
   },
   "outputs": [],
   "source": [
    "\n",
    "# Main\n",
    "warnings.filterwarnings('ignore')\n",
    "start_time = time.time()\n",
    "\n",
    "group = 0\n",
    "off_classes = [] \n",
    "r = 1\n",
    "\n",
    "for row in df_train.itertuples():\n",
    "    \n",
    "    if group == 0:\n",
    "        group = row.eeg_id\n",
    "        off_classes = [(row.eeg_label_offset_seconds, row.expert_consensus)]\n",
    "    elif row.eeg_id == group:\n",
    "        off_classes.append((row.eeg_label_offset_seconds, row.expert_consensus))\n",
    "    elif group != row.eeg_id and group != 0:\n",
    "        \n",
    "        # get respective eeg file\n",
    "        # eeg = find_eeg(eeg_files_copy, group)\n",
    "        eeg = f\"{train_eeg_path}{str(group)}.parquet\"\n",
    "        # print(\"eeg path \",eeg)\n",
    "        \n",
    "        # read eed df\n",
    "        df_eeg = pd.read_parquet(eeg)\n",
    "        \n",
    "        # Pre-Processing - Noise Removal\n",
    "        filtered_df = noise_removal(df_eeg)\n",
    "        \n",
    "        # Parallelization of Feature Extraction\n",
    "        ret = generate_spectrograms_parallel(filtered_df, group, off_classes)\n",
    "        # eeg_files_copy.remove(eeg)\n",
    "        group = row.eeg_id \n",
    "        off_classes = [(row.eeg_label_offset_seconds, row.expert_consensus)]\n",
    "    print(\"r------------- : \", r)\n",
    "    r+=1\n",
    "    \n",
    "elapsed_time = time.time() - start_time\n",
    "\n",
    "print(f\"Elapsed time : {elapsed_time}\")\n",
    "\n",
    "# Write to csv - proc time\n",
    "with open(\"proc_time.csv\", \"a+\") as pc:\n",
    "    pc.write(f'{num_cpus},{elapsed_time}\\n')\n",
    "\n"
   ]
  },
  {
   "cell_type": "markdown",
   "id": "df91797a",
   "metadata": {},
   "source": [
    "#### Generating plots for Speed up and Elapsed Time"
   ]
  },
  {
   "cell_type": "code",
   "execution_count": null,
   "id": "c22f9701-f158-45e2-8449-a3d2944d4afa",
   "metadata": {},
   "outputs": [],
   "source": [
    "df_cpu = pd.read_csv(\"proc_time.csv\")"
   ]
  },
  {
   "cell_type": "code",
   "execution_count": null,
   "id": "4333472d",
   "metadata": {},
   "outputs": [],
   "source": [
    "# No of CPUs vs Elapsed Time\n",
    "\n",
    "# Plot Num_CPUs vs Elapsed_time\n",
    "plt.plot(df_cpu['Num_CPUs'], df_cpu['Elapsed_time'], marker='o', linestyle='-')\n",
    "\n",
    "# Add labels and title\n",
    "plt.xlabel('Number of CPUs')\n",
    "plt.ylabel('Elapsed Time (seconds)')\n",
    "plt.title('Number of CPUs vs Elapsed Time')\n",
    "\n",
    "# Show plot\n",
    "plt.grid(True)\n",
    "\n",
    "plt.savefig('cpu_elapsed_time_plot.png') \n",
    "\n",
    "plt.show()\n"
   ]
  },
  {
   "cell_type": "code",
   "execution_count": null,
   "id": "3ce8fb77",
   "metadata": {},
   "outputs": [],
   "source": [
    "# Calculate speedup\n",
    "df_cpu['Speedup'] = df_cpu['Elapsed_time'][0] / df_cpu['Elapsed_time']\n",
    "\n",
    "# Plot Num_CPUs vs Elapsed_time\n",
    "plt.plot(df_cpu['Num_CPUs'], df_cpu['Speedup'], marker='o', linestyle='-')\n",
    "\n",
    "# Add labels and title\n",
    "plt.xlabel('Number of CPUs')\n",
    "plt.ylabel('Speed Up')\n",
    "plt.title('Number of CPUs vs Speed Up')\n",
    "\n",
    "# Show plot\n",
    "plt.grid(True)\n",
    "\n",
    "plt.savefig('cpu_speedup_plot.png') \n",
    "\n",
    "plt.show()\n"
   ]
  }
 ],
 "metadata": {
  "kernelspec": {
   "display_name": "Python 3 (ipykernel)",
   "language": "python",
   "name": "python3"
  },
  "language_info": {
   "codemirror_mode": {
    "name": "ipython",
    "version": 3
   },
   "file_extension": ".py",
   "mimetype": "text/x-python",
   "name": "python",
   "nbconvert_exporter": "python",
   "pygments_lexer": "ipython3",
   "version": "3.11.7"
  }
 },
 "nbformat": 4,
 "nbformat_minor": 5
}
